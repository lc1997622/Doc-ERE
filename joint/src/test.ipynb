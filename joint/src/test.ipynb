{
 "cells": [
  {
   "cell_type": "code",
   "execution_count": 2,
   "metadata": {},
   "outputs": [],
   "source": [
    "import torch\n",
    "\n",
    "from transformers import RobertaTokenizer\n",
    "tokenizer = RobertaTokenizer.from_pretrained(\"roberta-base\")"
   ]
  },
  {
   "cell_type": "code",
   "execution_count": 14,
   "metadata": {},
   "outputs": [
    {
     "name": "stdout",
     "output_type": "stream",
     "text": [
      "tensor([[ 3,  4,  5,  6],\n",
      "        [ 7,  8,  9, 10],\n",
      "        [11, 12, 13, 14]])\n",
      "tensor([[11,  8,  5]])\n"
     ]
    }
   ],
   "source": [
    "import torch\n",
    "\n",
    "tensor_0 = torch.arange(3, 15).view(3, 4)\n",
    "print(tensor_0)\n",
    "\n",
    "index = torch.tensor([[2, 1, 0]])\n",
    "tensor_1 = tensor_0.gather(0, index)\n",
    "print(tensor_1)\n",
    "\n",
    "torch.index_reduce"
   ]
  }
 ],
 "metadata": {
  "kernelspec": {
   "display_name": "MERE",
   "language": "python",
   "name": "python3"
  },
  "language_info": {
   "codemirror_mode": {
    "name": "ipython",
    "version": 3
   },
   "file_extension": ".py",
   "mimetype": "text/x-python",
   "name": "python",
   "nbconvert_exporter": "python",
   "pygments_lexer": "ipython3",
   "version": "3.7.16"
  },
  "orig_nbformat": 4,
  "vscode": {
   "interpreter": {
    "hash": "996fd6b827e685dde08521aaf3c28974758c68078fdde632fd95f0e5b7b54ec2"
   }
  }
 },
 "nbformat": 4,
 "nbformat_minor": 2
}
